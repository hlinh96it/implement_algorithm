{
 "cells": [
  {
   "cell_type": "code",
   "execution_count": 1,
   "metadata": {
    "collapsed": true
   },
   "outputs": [],
   "source": [
    "import pandas as pd\n",
    "import boto"
   ]
  },
  {
   "cell_type": "code",
   "execution_count": 3,
   "outputs": [
    {
     "data": {
      "text/plain": "       x_001    x_002    x_003    x_004    x_005    x_006    x_007    x_008  \\\n0    2.61776  2.61814  2.61859  2.61912  2.61981  2.62071  2.62186  2.62334   \n1    2.83454  2.83871  2.84283  2.84705  2.85138  2.85587  2.86060  2.86566   \n2    2.58284  2.58458  2.58629  2.58808  2.58996  2.59192  2.59401  2.59627   \n3    2.82286  2.82460  2.82630  2.82814  2.83001  2.83192  2.83392  2.83606   \n4    2.78813  2.78989  2.79167  2.79350  2.79538  2.79746  2.79984  2.80254   \n..       ...      ...      ...      ...      ...      ...      ...      ...   \n210  3.14626  3.15166  3.15703  3.16244  3.16791  3.17348  3.17923  3.18521   \n211  2.57992  2.58040  2.58099  2.58175  2.58266  2.58381  2.58530  2.58719   \n212  2.56875  2.56923  2.56985  2.57060  2.57150  2.57268  2.57420  2.57610   \n213  2.65884  2.65943  2.66023  2.66108  2.66215  2.66360  2.66550  2.66787   \n214  2.89064  2.89244  2.89438  2.89659  2.89913  2.90211  2.90566  2.90982   \n\n       x_009    x_010  ...    x_094    x_095    x_096    x_097    x_098  \\\n0    2.62511  2.62722  ...  2.94013  2.91978  2.89966  2.87964  2.85960   \n1    2.87093  2.87661  ...  3.26655  3.25369  3.24045  3.22659  3.21181   \n2    2.59873  2.60131  ...  2.65112  2.63262  2.61461  2.59718  2.58034   \n3    2.83842  2.84097  ...  2.92576  2.90251  2.87988  2.85794  2.83672   \n4    2.80553  2.80890  ...  3.25831  3.23784  3.21765  3.19766  3.17770   \n..       ...      ...  ...      ...      ...      ...      ...      ...   \n210  3.19140  3.19792  ...  3.57915  3.56142  3.54365  3.52563  3.50705   \n211  2.58949  2.59225  ...  2.92062  2.90367  2.88668  2.86951  2.85180   \n212  2.57841  2.58129  ...  2.91592  2.89952  2.88291  2.86595  2.84836   \n213  2.67070  2.67405  ...  3.01851  3.00327  2.98759  2.97121  2.95374   \n214  2.91468  2.92031  ...  3.46234  3.44632  3.42949  3.41136  3.39146   \n\n       x_099    x_100  water   fat  protein  \n0    2.83940  2.81920   60.5  22.5     16.7  \n1    3.19600  3.17942   46.0  40.1     13.5  \n2    2.56404  2.54816   71.0   8.4     20.5  \n3    2.81617  2.79622   72.8   5.9     20.7  \n4    3.15770  3.13753   58.3  25.5     15.5  \n..       ...      ...    ...   ...      ...  \n210  3.48765  3.46769   53.4  31.3     15.3  \n211  2.83347  2.81473   51.6  33.8     13.8  \n212  2.82998  2.81111   50.3  35.5     13.2  \n213  2.93514  2.91564   44.9  42.5     12.0  \n214  3.36959  3.34622   41.0  47.8     11.6  \n\n[215 rows x 103 columns]",
      "text/html": "<div>\n<style scoped>\n    .dataframe tbody tr th:only-of-type {\n        vertical-align: middle;\n    }\n\n    .dataframe tbody tr th {\n        vertical-align: top;\n    }\n\n    .dataframe thead th {\n        text-align: right;\n    }\n</style>\n<table border=\"1\" class=\"dataframe\">\n  <thead>\n    <tr style=\"text-align: right;\">\n      <th></th>\n      <th>x_001</th>\n      <th>x_002</th>\n      <th>x_003</th>\n      <th>x_004</th>\n      <th>x_005</th>\n      <th>x_006</th>\n      <th>x_007</th>\n      <th>x_008</th>\n      <th>x_009</th>\n      <th>x_010</th>\n      <th>...</th>\n      <th>x_094</th>\n      <th>x_095</th>\n      <th>x_096</th>\n      <th>x_097</th>\n      <th>x_098</th>\n      <th>x_099</th>\n      <th>x_100</th>\n      <th>water</th>\n      <th>fat</th>\n      <th>protein</th>\n    </tr>\n  </thead>\n  <tbody>\n    <tr>\n      <th>0</th>\n      <td>2.61776</td>\n      <td>2.61814</td>\n      <td>2.61859</td>\n      <td>2.61912</td>\n      <td>2.61981</td>\n      <td>2.62071</td>\n      <td>2.62186</td>\n      <td>2.62334</td>\n      <td>2.62511</td>\n      <td>2.62722</td>\n      <td>...</td>\n      <td>2.94013</td>\n      <td>2.91978</td>\n      <td>2.89966</td>\n      <td>2.87964</td>\n      <td>2.85960</td>\n      <td>2.83940</td>\n      <td>2.81920</td>\n      <td>60.5</td>\n      <td>22.5</td>\n      <td>16.7</td>\n    </tr>\n    <tr>\n      <th>1</th>\n      <td>2.83454</td>\n      <td>2.83871</td>\n      <td>2.84283</td>\n      <td>2.84705</td>\n      <td>2.85138</td>\n      <td>2.85587</td>\n      <td>2.86060</td>\n      <td>2.86566</td>\n      <td>2.87093</td>\n      <td>2.87661</td>\n      <td>...</td>\n      <td>3.26655</td>\n      <td>3.25369</td>\n      <td>3.24045</td>\n      <td>3.22659</td>\n      <td>3.21181</td>\n      <td>3.19600</td>\n      <td>3.17942</td>\n      <td>46.0</td>\n      <td>40.1</td>\n      <td>13.5</td>\n    </tr>\n    <tr>\n      <th>2</th>\n      <td>2.58284</td>\n      <td>2.58458</td>\n      <td>2.58629</td>\n      <td>2.58808</td>\n      <td>2.58996</td>\n      <td>2.59192</td>\n      <td>2.59401</td>\n      <td>2.59627</td>\n      <td>2.59873</td>\n      <td>2.60131</td>\n      <td>...</td>\n      <td>2.65112</td>\n      <td>2.63262</td>\n      <td>2.61461</td>\n      <td>2.59718</td>\n      <td>2.58034</td>\n      <td>2.56404</td>\n      <td>2.54816</td>\n      <td>71.0</td>\n      <td>8.4</td>\n      <td>20.5</td>\n    </tr>\n    <tr>\n      <th>3</th>\n      <td>2.82286</td>\n      <td>2.82460</td>\n      <td>2.82630</td>\n      <td>2.82814</td>\n      <td>2.83001</td>\n      <td>2.83192</td>\n      <td>2.83392</td>\n      <td>2.83606</td>\n      <td>2.83842</td>\n      <td>2.84097</td>\n      <td>...</td>\n      <td>2.92576</td>\n      <td>2.90251</td>\n      <td>2.87988</td>\n      <td>2.85794</td>\n      <td>2.83672</td>\n      <td>2.81617</td>\n      <td>2.79622</td>\n      <td>72.8</td>\n      <td>5.9</td>\n      <td>20.7</td>\n    </tr>\n    <tr>\n      <th>4</th>\n      <td>2.78813</td>\n      <td>2.78989</td>\n      <td>2.79167</td>\n      <td>2.79350</td>\n      <td>2.79538</td>\n      <td>2.79746</td>\n      <td>2.79984</td>\n      <td>2.80254</td>\n      <td>2.80553</td>\n      <td>2.80890</td>\n      <td>...</td>\n      <td>3.25831</td>\n      <td>3.23784</td>\n      <td>3.21765</td>\n      <td>3.19766</td>\n      <td>3.17770</td>\n      <td>3.15770</td>\n      <td>3.13753</td>\n      <td>58.3</td>\n      <td>25.5</td>\n      <td>15.5</td>\n    </tr>\n    <tr>\n      <th>...</th>\n      <td>...</td>\n      <td>...</td>\n      <td>...</td>\n      <td>...</td>\n      <td>...</td>\n      <td>...</td>\n      <td>...</td>\n      <td>...</td>\n      <td>...</td>\n      <td>...</td>\n      <td>...</td>\n      <td>...</td>\n      <td>...</td>\n      <td>...</td>\n      <td>...</td>\n      <td>...</td>\n      <td>...</td>\n      <td>...</td>\n      <td>...</td>\n      <td>...</td>\n      <td>...</td>\n    </tr>\n    <tr>\n      <th>210</th>\n      <td>3.14626</td>\n      <td>3.15166</td>\n      <td>3.15703</td>\n      <td>3.16244</td>\n      <td>3.16791</td>\n      <td>3.17348</td>\n      <td>3.17923</td>\n      <td>3.18521</td>\n      <td>3.19140</td>\n      <td>3.19792</td>\n      <td>...</td>\n      <td>3.57915</td>\n      <td>3.56142</td>\n      <td>3.54365</td>\n      <td>3.52563</td>\n      <td>3.50705</td>\n      <td>3.48765</td>\n      <td>3.46769</td>\n      <td>53.4</td>\n      <td>31.3</td>\n      <td>15.3</td>\n    </tr>\n    <tr>\n      <th>211</th>\n      <td>2.57992</td>\n      <td>2.58040</td>\n      <td>2.58099</td>\n      <td>2.58175</td>\n      <td>2.58266</td>\n      <td>2.58381</td>\n      <td>2.58530</td>\n      <td>2.58719</td>\n      <td>2.58949</td>\n      <td>2.59225</td>\n      <td>...</td>\n      <td>2.92062</td>\n      <td>2.90367</td>\n      <td>2.88668</td>\n      <td>2.86951</td>\n      <td>2.85180</td>\n      <td>2.83347</td>\n      <td>2.81473</td>\n      <td>51.6</td>\n      <td>33.8</td>\n      <td>13.8</td>\n    </tr>\n    <tr>\n      <th>212</th>\n      <td>2.56875</td>\n      <td>2.56923</td>\n      <td>2.56985</td>\n      <td>2.57060</td>\n      <td>2.57150</td>\n      <td>2.57268</td>\n      <td>2.57420</td>\n      <td>2.57610</td>\n      <td>2.57841</td>\n      <td>2.58129</td>\n      <td>...</td>\n      <td>2.91592</td>\n      <td>2.89952</td>\n      <td>2.88291</td>\n      <td>2.86595</td>\n      <td>2.84836</td>\n      <td>2.82998</td>\n      <td>2.81111</td>\n      <td>50.3</td>\n      <td>35.5</td>\n      <td>13.2</td>\n    </tr>\n    <tr>\n      <th>213</th>\n      <td>2.65884</td>\n      <td>2.65943</td>\n      <td>2.66023</td>\n      <td>2.66108</td>\n      <td>2.66215</td>\n      <td>2.66360</td>\n      <td>2.66550</td>\n      <td>2.66787</td>\n      <td>2.67070</td>\n      <td>2.67405</td>\n      <td>...</td>\n      <td>3.01851</td>\n      <td>3.00327</td>\n      <td>2.98759</td>\n      <td>2.97121</td>\n      <td>2.95374</td>\n      <td>2.93514</td>\n      <td>2.91564</td>\n      <td>44.9</td>\n      <td>42.5</td>\n      <td>12.0</td>\n    </tr>\n    <tr>\n      <th>214</th>\n      <td>2.89064</td>\n      <td>2.89244</td>\n      <td>2.89438</td>\n      <td>2.89659</td>\n      <td>2.89913</td>\n      <td>2.90211</td>\n      <td>2.90566</td>\n      <td>2.90982</td>\n      <td>2.91468</td>\n      <td>2.92031</td>\n      <td>...</td>\n      <td>3.46234</td>\n      <td>3.44632</td>\n      <td>3.42949</td>\n      <td>3.41136</td>\n      <td>3.39146</td>\n      <td>3.36959</td>\n      <td>3.34622</td>\n      <td>41.0</td>\n      <td>47.8</td>\n      <td>11.6</td>\n    </tr>\n  </tbody>\n</table>\n<p>215 rows × 103 columns</p>\n</div>"
     },
     "execution_count": 3,
     "metadata": {},
     "output_type": "execute_result"
    }
   ],
   "source": [
    "data = pd.read_csv('s3://articledatas3/meats.csv')\n",
    "data = data.drop('Unnamed: 0', axis = 1)\n",
    "data"
   ],
   "metadata": {
    "collapsed": false
   }
  },
  {
   "cell_type": "code",
   "execution_count": null,
   "outputs": [],
   "source": [],
   "metadata": {
    "collapsed": false
   }
  }
 ],
 "metadata": {
  "kernelspec": {
   "display_name": "Python 3",
   "language": "python",
   "name": "python3"
  },
  "language_info": {
   "codemirror_mode": {
    "name": "ipython",
    "version": 2
   },
   "file_extension": ".py",
   "mimetype": "text/x-python",
   "name": "python",
   "nbconvert_exporter": "python",
   "pygments_lexer": "ipython2",
   "version": "2.7.6"
  }
 },
 "nbformat": 4,
 "nbformat_minor": 0
}
