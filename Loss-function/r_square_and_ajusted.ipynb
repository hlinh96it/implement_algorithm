{
 "cells": [
  {
   "cell_type": "code",
   "execution_count": 8,
   "metadata": {
    "collapsed": true
   },
   "outputs": [],
   "source": [
    "import numpy as np\n",
    "import pandas as pd\n",
    "from sklearn.datasets import load_boston\n",
    "from sklearn.linear_model import LinearRegression\n",
    "from sklearn.model_selection import train_test_split\n",
    "from sklearn.metrics import r2_score\n",
    "\n",
    "import warnings\n",
    "warnings.filterwarnings(\"ignore\")"
   ]
  },
  {
   "cell_type": "code",
   "execution_count": null,
   "outputs": [],
   "source": [
    "def cal_r2_score(y_true, y_pred):\n",
    "    y_bar = np.mean(y_true)\n",
    "    ss_total = np.sum((y_true - y_bar) ** 2)\n",
    "    ss_explained = np.sum((y_pred - y_bar) ** 2)\n",
    "    ss_residual = np.sum((y_true - y_pred) ** 2)\n",
    "    sklearn_r2 = r2_score(y_true, y_pred)\n",
    "\n",
    "    print(f'R_square 1 - (SS_residual / SS_total) = {1 - ss_residual/ss_total}')\n",
    "    print(f'R-square sklearn {sklearn_r2}')\n",
    "\n",
    "\n",
    "X = load_boston()['data'].copy()\n",
    "y = load_boston()['target'].copy()\n",
    "X_train, X_test, y_train, y_test = train_test_split(X, y, test_size=0.2, random_state=42)\n",
    "model = LinearRegression()\n",
    "model.fit(X_train, y_train)\n",
    "\n",
    "predictions = model.predict(X_test)\n",
    "cal_r2_score(y_test, predictions)"
   ],
   "metadata": {
    "collapsed": false
   }
  },
  {
   "cell_type": "code",
   "execution_count": 24,
   "outputs": [
    {
     "name": "stdout",
     "output_type": "stream",
     "text": [
      "        RAD      TAX   PTRATIO         B     LSTAT  random1  random2  random3\n",
      "0  0.205826  0.36495  0.436795  0.167905  0.667148      0.0      0.0      0.0\n"
     ]
    }
   ],
   "source": [
    "from sklearn.feature_selection import mutual_info_regression\n",
    "\n",
    "df = pd.DataFrame(load_boston()['data'].copy(), columns=load_boston()['feature_names'])\n",
    "df['y'] = load_boston()['target'].copy()\n",
    "\n",
    "df['RAD'] = df['RAD'].astype(int)\n",
    "df['CHAS'] = df['CHAS'].astype(int)\n",
    "\n",
    "X = df.drop(columns='y').copy()\n",
    "y = df['y'].copy()\n",
    "\n",
    "X['random1'] = np.random.randn(len(X))\n",
    "X['random2'] = np.random.randn(len(X))\n",
    "X['random3'] = np.random.randn(len(X))\n",
    "\n",
    "mutual_info = mutual_info_regression(X, y, discrete_features=X.dtypes == np.int32)\n",
    "mutual_info = pd.DataFrame(mutual_info.reshape(1, -1), columns=X.columns)\n",
    "print(mutual_info.iloc[:, 8:])"
   ],
   "metadata": {
    "collapsed": false
   }
  },
  {
   "cell_type": "code",
   "execution_count": 26,
   "outputs": [
    {
     "data": {
      "text/plain": "          r2    adj_r2\n11  0.670314  0.662973\n12  0.684204  0.676518\n13  0.740643  0.733790\n14  0.740868  0.733479\n15  0.743964  0.736127\n16  0.743965  0.735587",
      "text/html": "<div>\n<style scoped>\n    .dataframe tbody tr th:only-of-type {\n        vertical-align: middle;\n    }\n\n    .dataframe tbody tr th {\n        vertical-align: top;\n    }\n\n    .dataframe thead th {\n        text-align: right;\n    }\n</style>\n<table border=\"1\" class=\"dataframe\">\n  <thead>\n    <tr style=\"text-align: right;\">\n      <th></th>\n      <th>r2</th>\n      <th>adj_r2</th>\n    </tr>\n  </thead>\n  <tbody>\n    <tr>\n      <th>11</th>\n      <td>0.670314</td>\n      <td>0.662973</td>\n    </tr>\n    <tr>\n      <th>12</th>\n      <td>0.684204</td>\n      <td>0.676518</td>\n    </tr>\n    <tr>\n      <th>13</th>\n      <td>0.740643</td>\n      <td>0.733790</td>\n    </tr>\n    <tr>\n      <th>14</th>\n      <td>0.740868</td>\n      <td>0.733479</td>\n    </tr>\n    <tr>\n      <th>15</th>\n      <td>0.743964</td>\n      <td>0.736127</td>\n    </tr>\n    <tr>\n      <th>16</th>\n      <td>0.743965</td>\n      <td>0.735587</td>\n    </tr>\n  </tbody>\n</table>\n</div>"
     },
     "execution_count": 26,
     "metadata": {},
     "output_type": "execute_result"
    }
   ],
   "source": [
    "mutual_info = mutual_info_regression(X, y, discrete_features=X.dtypes == np.int32)\n",
    "mutual_info = pd.Series(mutual_info, index=X.columns)\n",
    "result_df = pd.DataFrame()\n",
    "\n",
    "for i in range(1, len(mutual_info) + 1):\n",
    "    X_new = X.iloc[:, :i].copy()\n",
    "    linear_regression = LinearRegression()\n",
    "    linear_regression.fit(X_new, y)\n",
    "\n",
    "    prediction = linear_regression.predict(X_new)\n",
    "    r2 = r2_score(y_true=y, y_pred=prediction)\n",
    "    adj_r2 = 1 - ((1 - r2) * (len(X) - 1) / (len(X) - i - 1))\n",
    "\n",
    "    result_df = result_df.append(pd.DataFrame({'r2': r2,\n",
    "                                               'adj_r2': adj_r2}, index=[i]))\n",
    "\n",
    "result_df.iloc[10: ]"
   ],
   "metadata": {
    "collapsed": false
   }
  },
  {
   "cell_type": "code",
   "execution_count": null,
   "outputs": [],
   "source": [],
   "metadata": {
    "collapsed": false
   }
  }
 ],
 "metadata": {
  "kernelspec": {
   "display_name": "Python 3",
   "language": "python",
   "name": "python3"
  },
  "language_info": {
   "codemirror_mode": {
    "name": "ipython",
    "version": 2
   },
   "file_extension": ".py",
   "mimetype": "text/x-python",
   "name": "python",
   "nbconvert_exporter": "python",
   "pygments_lexer": "ipython2",
   "version": "2.7.6"
  }
 },
 "nbformat": 4,
 "nbformat_minor": 0
}
